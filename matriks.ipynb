{
  "nbformat": 4,
  "nbformat_minor": 0,
  "metadata": {
    "colab": {
      "provenance": [],
      "authorship_tag": "ABX9TyPGBZEmcNgeYra63O7usHef",
      "include_colab_link": true
    },
    "kernelspec": {
      "name": "python3",
      "display_name": "Python 3"
    },
    "language_info": {
      "name": "python"
    }
  },
  "cells": [
    {
      "cell_type": "markdown",
      "metadata": {
        "id": "view-in-github",
        "colab_type": "text"
      },
      "source": [
        "<a href=\"https://colab.research.google.com/github/Agtna/AI-2025/blob/main/matriks.ipynb\" target=\"_parent\"><img src=\"https://colab.research.google.com/assets/colab-badge.svg\" alt=\"Open In Colab\"/></a>"
      ]
    },
    {
      "cell_type": "markdown",
      "source": [
        "# Operasi Matematika menggunakan python\n"
      ],
      "metadata": {
        "id": "-5H_HQjDnYj6"
      }
    },
    {
      "cell_type": "code",
      "source": [
        "x = min(5, 10, 25)\n",
        "y = max(6, 12, 18)\n",
        "print(x)\n",
        "print(y)\n"
      ],
      "metadata": {
        "colab": {
          "base_uri": "https://localhost:8080/"
        },
        "id": "kMeXBgzKng-N",
        "outputId": "9d12eb07-0fd4-46ee-cdcd-f58e01d58370"
      },
      "execution_count": null,
      "outputs": [
        {
          "output_type": "stream",
          "name": "stdout",
          "text": [
            "5\n",
            "18\n"
          ]
        }
      ]
    },
    {
      "cell_type": "code",
      "execution_count": null,
      "metadata": {
        "colab": {
          "base_uri": "https://localhost:8080/"
        },
        "id": "w-TIkpBnm-fP",
        "outputId": "fe414eb5-ddec-4783-cbc9-de41a631a18f"
      },
      "outputs": [
        {
          "output_type": "stream",
          "name": "stdout",
          "text": [
            "7.25\n"
          ]
        }
      ],
      "source": [
        "x = abs(-7.25)\n",
        "print(x)\n"
      ]
    },
    {
      "cell_type": "code",
      "source": [
        "import math\n",
        "x = math.pow(4, 3)\n",
        "print(x)"
      ],
      "metadata": {
        "colab": {
          "base_uri": "https://localhost:8080/"
        },
        "id": "2j97pFqmobLB",
        "outputId": "072b07dc-bfdf-4f96-a9f1-c284039421bd"
      },
      "execution_count": null,
      "outputs": [
        {
          "output_type": "stream",
          "name": "stdout",
          "text": [
            "64.0\n"
          ]
        }
      ]
    },
    {
      "cell_type": "code",
      "source": [
        "import math\n",
        "x = math.sqrt(64)\n",
        "print(x)"
      ],
      "metadata": {
        "colab": {
          "base_uri": "https://localhost:8080/"
        },
        "id": "xZiWDiLwoisP",
        "outputId": "8c75bf44-952d-4119-dfb0-e34a50fe882b"
      },
      "execution_count": null,
      "outputs": [
        {
          "output_type": "stream",
          "name": "stdout",
          "text": [
            "8.0\n"
          ]
        }
      ]
    },
    {
      "cell_type": "code",
      "source": [
        "import math\n",
        "x = math.ceil(1.4)\n",
        "y = math.floor(1.4)\n",
        "print(x)\n",
        "print(y)"
      ],
      "metadata": {
        "colab": {
          "base_uri": "https://localhost:8080/"
        },
        "id": "OkeN2thNoomF",
        "outputId": "45e71167-1128-4ef9-c57a-a93e4c8ff160"
      },
      "execution_count": null,
      "outputs": [
        {
          "output_type": "stream",
          "name": "stdout",
          "text": [
            "2\n",
            "1\n"
          ]
        }
      ]
    },
    {
      "cell_type": "code",
      "source": [
        "import math\n",
        "x = math.pi\n",
        "print(x)\n"
      ],
      "metadata": {
        "colab": {
          "base_uri": "https://localhost:8080/"
        },
        "id": "DkNbbZO2ot-v",
        "outputId": "fc1be058-51fc-4631-d6cb-dfe407525c42"
      },
      "execution_count": null,
      "outputs": [
        {
          "output_type": "stream",
          "name": "stdout",
          "text": [
            "3.141592653589793\n"
          ]
        }
      ]
    },
    {
      "cell_type": "code",
      "source": [
        "import numpy as np\n",
        "A = np.array([[80, 30, 25],\n",
        "[50, 20, 10]])\n",
        "B = np.array([[30, 60, 15],\n",
        "[10, 30, 30]])\n",
        "\n",
        "hasil = A + B\n",
        "print(hasil)"
      ],
      "metadata": {
        "colab": {
          "base_uri": "https://localhost:8080/"
        },
        "id": "KZxSCdj4o0_0",
        "outputId": "dcd10ebf-6f32-4b36-8cb7-4cc5660b8d05"
      },
      "execution_count": null,
      "outputs": [
        {
          "output_type": "stream",
          "name": "stdout",
          "text": [
            "[[110  90  40]\n",
            " [ 60  50  40]]\n"
          ]
        }
      ]
    },
    {
      "cell_type": "code",
      "source": [
        "import numpy as np\n",
        "A = np.array([10, 20, 15])\n",
        "B = np.array([16, 67, 35])\n",
        "\n",
        "hasil = np.dot(A, B)\n",
        "print(hasil)"
      ],
      "metadata": {
        "colab": {
          "base_uri": "https://localhost:8080/"
        },
        "id": "FXilxnnxrCJ9",
        "outputId": "90f79433-aa29-452c-a7f2-9400a85082f6"
      },
      "execution_count": null,
      "outputs": [
        {
          "output_type": "stream",
          "name": "stdout",
          "text": [
            "2025\n"
          ]
        }
      ]
    },
    {
      "cell_type": "code",
      "source": [
        "import numpy as np\n",
        "A = np.array([10, 20, 15])\n",
        "B = np.array([16, 67, 35])\n",
        "\n",
        "Hasil = np.cross(A, B)\n",
        "print(hasil)"
      ],
      "metadata": {
        "colab": {
          "base_uri": "https://localhost:8080/"
        },
        "id": "7FYF-0u-rJY5",
        "outputId": "7b346f74-b53f-49c0-a44c-b1b02c75cf3a"
      },
      "execution_count": null,
      "outputs": [
        {
          "output_type": "stream",
          "name": "stdout",
          "text": [
            "2025\n"
          ]
        }
      ]
    },
    {
      "cell_type": "code",
      "source": [
        "import math\n",
        "# Trigonometri\n",
        "x = math.radians(30)  # Konversi 30 derajat ke radian\n",
        "print(\"sin(30°):\", math.sin(x))\n",
        "print(\"cos(60°):\", math.cos(x))\n",
        "print(\"tan(30°):\", math.tan(x))"
      ],
      "metadata": {
        "colab": {
          "base_uri": "https://localhost:8080/"
        },
        "id": "ncU2tLHmrRX-",
        "outputId": "77d424d5-3a32-4654-c5d9-583d3a90fbfe"
      },
      "execution_count": null,
      "outputs": [
        {
          "output_type": "stream",
          "name": "stdout",
          "text": [
            "sin(30°): 0.49999999999999994\n",
            "cos(60°): 0.8660254037844387\n",
            "tan(30°): 0.5773502691896257\n"
          ]
        }
      ]
    },
    {
      "cell_type": "code",
      "source": [
        "# Logaritma\n",
        "print(\"log(10):\", math.log(10))  # Logaritma natural (basis e)\n",
        "print(\"log10(100):\", math.log10(100))  # Logaritma basis 10"
      ],
      "metadata": {
        "colab": {
          "base_uri": "https://localhost:8080/"
        },
        "id": "gaWwFGZMsPeD",
        "outputId": "265aaa1c-4362-4305-d2c0-08a1751a554c"
      },
      "execution_count": null,
      "outputs": [
        {
          "output_type": "stream",
          "name": "stdout",
          "text": [
            "log(10): 2.302585092994046\n",
            "log10(100): 2.0\n"
          ]
        }
      ]
    },
    {
      "cell_type": "code",
      "source": [
        "# Konversi sudut\n",
        "print(\"180 radian ke derajat:\", math.degrees(math.pi))"
      ],
      "metadata": {
        "colab": {
          "base_uri": "https://localhost:8080/"
        },
        "id": "WKTSq8k3sWJm",
        "outputId": "3121f87c-0f73-442f-e329-2c4d853b8dd6"
      },
      "execution_count": null,
      "outputs": [
        {
          "output_type": "stream",
          "name": "stdout",
          "text": [
            "180 radian ke derajat: 180.0\n"
          ]
        }
      ]
    },
    {
      "cell_type": "code",
      "source": [
        "# Jarak Euclidean\n",
        "p1 = (3, 4)\n",
        "p2 = (0, 0)\n",
        "print(\"Jarak Euclidean antara\", p1, \"dan\", p2, \":\", math.dist(p1, p2))"
      ],
      "metadata": {
        "colab": {
          "base_uri": "https://localhost:8080/"
        },
        "id": "iWpx-l9Esaby",
        "outputId": "3e7c99e7-12d7-4e75-b062-606e458be206"
      },
      "execution_count": null,
      "outputs": [
        {
          "output_type": "stream",
          "name": "stdout",
          "text": [
            "Jarak Euclidean antara (3, 4) dan (0, 0) : 5.0\n"
          ]
        }
      ]
    },
    {
      "cell_type": "code",
      "source": [
        "# Faktorial\n",
        "print(\"5! =\", math.factorial(5))"
      ],
      "metadata": {
        "colab": {
          "base_uri": "https://localhost:8080/"
        },
        "id": "Qx2tho-gsmiJ",
        "outputId": "0b898cd6-8402-4dc0-ae23-32061d9c47b8"
      },
      "execution_count": null,
      "outputs": [
        {
          "output_type": "stream",
          "name": "stdout",
          "text": [
            "5! = 120\n"
          ]
        }
      ]
    },
    {
      "cell_type": "code",
      "source": [
        "# Modulus\n",
        "print(\"10.5 % 3 =\", math.fmod(10.5, 3))"
      ],
      "metadata": {
        "colab": {
          "base_uri": "https://localhost:8080/"
        },
        "id": "C8647JSksoo3",
        "outputId": "12b7f1cd-985b-48d0-e1ce-b89a85ebbd0b"
      },
      "execution_count": null,
      "outputs": [
        {
          "output_type": "stream",
          "name": "stdout",
          "text": [
            "10.5 % 3 = 1.5\n"
          ]
        }
      ]
    },
    {
      "cell_type": "code",
      "source": [
        "# Pengecekan NaN\n",
        "print(\"Apakah NaN?:\", math.isnan(float('nan')))"
      ],
      "metadata": {
        "colab": {
          "base_uri": "https://localhost:8080/"
        },
        "id": "jhj76R9vsrD5",
        "outputId": "704ac5b7-809a-428b-fda4-c56b34571aa0"
      },
      "execution_count": null,
      "outputs": [
        {
          "output_type": "stream",
          "name": "stdout",
          "text": [
            "Apakah NaN?: True\n"
          ]
        }
      ]
    },
    {
      "cell_type": "code",
      "source": [
        "# Fungsi Gamma\n",
        "print(\"Gamma(5):\", math.gamma(5))  # Sama dengan (5-1)!"
      ],
      "metadata": {
        "colab": {
          "base_uri": "https://localhost:8080/"
        },
        "id": "Vl45Mw3psuMQ",
        "outputId": "b1f52cbe-29f2-4b35-8449-baa155378e52"
      },
      "execution_count": null,
      "outputs": [
        {
          "output_type": "stream",
          "name": "stdout",
          "text": [
            "Gamma(5): 24.0\n"
          ]
        }
      ]
    },
    {
      "cell_type": "code",
      "source": [
        "# Permutasi\n",
        "print(\"Permutasi 5P3:\", math.perm(5, 3))\n"
      ],
      "metadata": {
        "colab": {
          "base_uri": "https://localhost:8080/"
        },
        "id": "oHxrbTCXs0qj",
        "outputId": "69419c19-d346-4e04-94cc-a7719bc24dde"
      },
      "execution_count": null,
      "outputs": [
        {
          "output_type": "stream",
          "name": "stdout",
          "text": [
            "Permutasi 5P3: 60\n"
          ]
        }
      ]
    },
    {
      "cell_type": "markdown",
      "source": [
        "# Penugasan"
      ],
      "metadata": {
        "id": "ZOHHkeSOv-Uh"
      }
    },
    {
      "cell_type": "code",
      "source": [
        "import numpy as np\n",
        "\n",
        "# Definisi matriks\n",
        "A = np.array([[3, 1], [2, 0]])\n",
        "B = np.array([[2, 1], [1, -1]])\n",
        "C = np.array([[-1, 1, 2], [2, 0, -1]])\n",
        "\n",
        "# Perkalian matriks\n",
        "AxB = np.dot(A, B)\n",
        "BxC = np.dot(B, C)\n",
        "\n",
        "# Menampilkan hasil\n",
        "print(\"A x B:\")\n",
        "print(AxB)\n",
        "\n",
        "print(\"B x C:\")\n",
        "print(BxC)\n"
      ],
      "metadata": {
        "colab": {
          "base_uri": "https://localhost:8080/"
        },
        "id": "jMmkE2cCs1rP",
        "outputId": "b93631ce-a1b3-4692-963b-584123591e5f"
      },
      "execution_count": null,
      "outputs": [
        {
          "output_type": "stream",
          "name": "stdout",
          "text": [
            "A x B:\n",
            "[[7 2]\n",
            " [4 2]]\n",
            "B x C:\n",
            "[[ 0  2  3]\n",
            " [-3  1  3]]\n"
          ]
        }
      ]
    },
    {
      "cell_type": "code",
      "source": [
        "# Menghitung faktorial\n",
        "faktorial_6 = math.factorial(6)\n",
        "print(\"6!:\", faktorial_6)\n"
      ],
      "metadata": {
        "colab": {
          "base_uri": "https://localhost:8080/"
        },
        "id": "e8PWPXU0wBgY",
        "outputId": "40e7a9bf-72b5-417c-8d82-51ea7d5287d0"
      },
      "execution_count": null,
      "outputs": [
        {
          "output_type": "stream",
          "name": "stdout",
          "text": [
            "6!: 720\n"
          ]
        }
      ]
    },
    {
      "cell_type": "code",
      "source": [
        "# Menghitung 8! / 5!\n",
        "hasil = math.factorial(8) / math.factorial(5)\n",
        "print(\"8! / 5!:\", hasil)\n"
      ],
      "metadata": {
        "colab": {
          "base_uri": "https://localhost:8080/"
        },
        "id": "2xB2QlF9ylOY",
        "outputId": "850c9bec-eaa7-46c9-ef09-7d2f06f5fa11"
      },
      "execution_count": null,
      "outputs": [
        {
          "output_type": "stream",
          "name": "stdout",
          "text": [
            "8! / 5!: 336.0\n"
          ]
        }
      ]
    },
    {
      "cell_type": "code",
      "source": [
        "# Definisi vektor\n",
        "vec_A = np.array([5, 3, 7])\n",
        "vec_B = np.array([12, -3, 1])\n",
        "\n",
        "# Panjang masing-masing vektor\n",
        "length_A = np.linalg.norm(vec_A)\n",
        "length_B = np.linalg.norm(vec_B)\n",
        "print(\"Panjang Vektor A:\", length_A)\n",
        "print(\"Panjang Vektor B:\", length_B)\n",
        "\n",
        "# Perkalian titik (dot product)\n",
        "dot_product = np.dot(vec_A, vec_B)\n",
        "print(\"A . B:\", dot_product)\n",
        "\n",
        "# Perkalian silang (cross product)\n",
        "cross_product = np.cross(vec_A, vec_B)\n",
        "print(\"A x B:\")\n",
        "print(cross_product)\n"
      ],
      "metadata": {
        "colab": {
          "base_uri": "https://localhost:8080/"
        },
        "id": "e5C0_EMuywSt",
        "outputId": "ecccb0f7-4574-407e-88fa-8ad9b1bbdacc"
      },
      "execution_count": null,
      "outputs": [
        {
          "output_type": "stream",
          "name": "stdout",
          "text": [
            "Panjang Vektor A: 9.1104335791443\n",
            "Panjang Vektor B: 12.409673645990857\n",
            "A . B: 58\n",
            "A x B:\n",
            "[ 24  79 -51]\n"
          ]
        }
      ]
    },
    {
      "cell_type": "code",
      "source": [],
      "metadata": {
        "id": "zppwMjPE1nZ7"
      },
      "execution_count": null,
      "outputs": []
    }
  ]
}